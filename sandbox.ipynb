{
 "cells": [
  {
   "cell_type": "code",
   "execution_count": null,
   "id": "3396e9f3-a15f-4e1b-8e2c-d5bf9f84280d",
   "metadata": {},
   "outputs": [],
   "source": [
    "from time_domain_pid import (\n",
    "    SecondOrderDelay, \n",
    "    NoController, \n",
    "    DiscretePIDController, \n",
    "    TimeDomainLoopSimulator,\n",
    ")\n",
    "from interfaces import InitialConditions\n",
    "from matplotlib import pyplot as plt\n",
    "import numpy as np"
   ]
  },
  {
   "cell_type": "code",
   "execution_count": null,
   "id": "8dd37e93-7606-4bb1-bb49-b30980c5b443",
   "metadata": {},
   "outputs": [],
   "source": [
    "plant = SecondOrderDelay(\n",
    "        delta=500e-9,\n",
    "        w0=500e3,\n",
    "        w1=1000e3,\n",
    "        gain=0.5,\n",
    "    )"
   ]
  },
  {
   "cell_type": "code",
   "execution_count": null,
   "id": "569565d6-16a9-4816-a151-b626d6f828fc",
   "metadata": {},
   "outputs": [],
   "source": [
    "# Check that the plant has a reasonable impulse response\n",
    "plt.figure()\n",
    "t = plant.impulse_t\n",
    "plt.plot(t, plant.impulse_response(t))\n",
    "print(f\"requested gain = {plant.gain}, actual gain = {np.sum(plant.impulse_response(t))*plant.dt}\")"
   ]
  },
  {
   "cell_type": "code",
   "execution_count": null,
   "id": "38c2046f-a36a-40e3-93c8-a5bf7e5c07fb",
   "metadata": {},
   "outputs": [],
   "source": [
    "# Setup a segmented \n",
    "t = np.linspace(-1e-6, 500e-6, 1000)\n",
    "seg1 = 0.5\n",
    "seg2 = 0.1\n",
    "seg3 = lambda t1, t2, y1, y2: (t-t1)*(y2-y1)/(t2-t1) + y1\n",
    "r = seg1*(t > 0)*(t < 100e-6)+ \\\n",
    "    seg2*(t>= 100e-6)*(t < 200e-6)+ \\\n",
    "    seg3(200e-6, 500e-6, 0.1, 0.5)*(t>=200e-6)\n",
    "start_ind = np.argmin(np.abs(t))\n",
    "init_conds = InitialConditions(\n",
    "    t = t,\n",
    "    r = r,\n",
    "    active = np.ones(t.shape, dtype = np.bool),\n",
    "    initial_u = 0.0,\n",
    ")"
   ]
  },
  {
   "cell_type": "code",
   "execution_count": null,
   "id": "80c82979-0bf0-4301-b702-d6425a783d10",
   "metadata": {},
   "outputs": [],
   "source": [
    "# Calculate PID\n",
    "no_pid_controller = NoController(gain=2.0)\n",
    "i_controller = DiscretePIDController(kp=1.0, ki=200e4, kd=2e-7)\n",
    "\n",
    "history_none = TimeDomainLoopSimulator(plant, no_pid_controller).simulate(init_conds)\n",
    "history_i = TimeDomainLoopSimulator(plant, i_controller).simulate(init_conds)"
   ]
  },
  {
   "cell_type": "code",
   "execution_count": null,
   "id": "b71155b1-2165-42f0-8df0-081c885cee26",
   "metadata": {},
   "outputs": [],
   "source": [
    "# Display results\n",
    "plt.figure()\n",
    "plt.plot(init_conds.t, init_conds.r, label='r, setpoint')\n",
    "plt.plot(history_none.t, history_none.y, label='y, no controller')\n",
    "plt.plot(history_i.t, history_i.y, label='y, pid controller')\n",
    "plt.legend()\n",
    "plt.xlabel('time (s)')\n",
    "plt.ylabel('process value (V)')"
   ]
  },
  {
   "cell_type": "code",
   "execution_count": null,
   "id": "cc71d38e-5e06-405b-b24e-f45fc7f5ea69",
   "metadata": {},
   "outputs": [],
   "source": []
  }
 ],
 "metadata": {
  "kernelspec": {
   "display_name": "Python 3 (ipykernel)",
   "language": "python",
   "name": "python3"
  },
  "language_info": {
   "codemirror_mode": {
    "name": "ipython",
    "version": 3
   },
   "file_extension": ".py",
   "mimetype": "text/x-python",
   "name": "python",
   "nbconvert_exporter": "python",
   "pygments_lexer": "ipython3",
   "version": "3.10.12"
  }
 },
 "nbformat": 4,
 "nbformat_minor": 5
}
